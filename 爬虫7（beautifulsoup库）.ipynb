{
 "cells": [
  {
   "cell_type": "markdown",
   "metadata": {},
   "source": [
    "### 信息标记的三种形式"
   ]
  },
  {
   "cell_type": "markdown",
   "metadata": {},
   "source": [
    "1.标记过的信息可以形成信息组织结构，增加信息维度；  \n",
    "2.标记过的信息可以用作通信、储存和展示；  \n",
    "3.标记的结构与信息一样具有重要价值；  \n",
    "4.标记后的信息更利于程序的理解和运用；"
   ]
  },
  {
   "cell_type": "markdown",
   "metadata": {},
   "source": [
    "#### HTML通过预定义的<>…</>标签形式组织不同类型的信息"
   ]
  },
  {
   "cell_type": "markdown",
   "metadata": {},
   "source": [
    "### 国际上公认的信息标记主要包括XML,JSON,YAML\n",
    "1.XML是HTML的特殊类型；通过标签形式表示信息；    \n",
    "扩展性非常好，但是繁琐。   \n",
    "2.JSON是有类型的键值对 “key”:“value”   \n",
    "适合程序处理（js），比XML简洁。      \n",
    "3.YAML采用无类型的键值对 key:value,通过缩进来表达所属关系。   \n",
    "文本信息比率高，可读性好。   "
   ]
  },
  {
   "cell_type": "markdown",
   "metadata": {},
   "source": [
    "### 信息提取的一般方法\n",
    "方法一：完整解析信息标记形式，再提取关键信息    \n",
    "方法二：无视信息标记形式，直接提取关键信息    \n",
    "方法三：两者结合   "
   ]
  },
  {
   "cell_type": "markdown",
   "metadata": {},
   "source": [
    "例子：提取html页面中的所有url链接   \n",
    "思路：（1）搜索所有的a标签；  \n",
    "     （2）解析a标签格式，提取href后的链接内容；"
   ]
  },
  {
   "cell_type": "code",
   "execution_count": 5,
   "metadata": {},
   "outputs": [
    {
     "name": "stdout",
     "output_type": "stream",
     "text": [
      "http://www.icourse163.org/course/BIT-268001\n",
      "http://www.icourse163.org/course/BIT-1001870001\n"
     ]
    }
   ],
   "source": [
    "import requests\n",
    "r = requests.get(\"http://python123.io/ws/demo.html\")\n",
    "demo = r.text\n",
    "from bs4 import BeautifulSoup\n",
    "soup = BeautifulSoup(demo,\"html.parser\")\n",
    "for link in soup.find_all(\"a\"):\n",
    "    print(link.get(\"href\"))\n"
   ]
  },
  {
   "cell_type": "code",
   "execution_count": 6,
   "metadata": {},
   "outputs": [
    {
     "data": {
      "text/plain": [
       "[<a class=\"py1\" href=\"http://www.icourse163.org/course/BIT-268001\" id=\"link1\">Basic Python</a>,\n",
       " <a class=\"py2\" href=\"http://www.icourse163.org/course/BIT-1001870001\" id=\"link2\">Advanced Python</a>]"
      ]
     },
     "execution_count": 6,
     "metadata": {},
     "output_type": "execute_result"
    }
   ],
   "source": [
    "#find_all() 查找所有内容\n",
    "soup.find_all(\"a\")"
   ]
  },
  {
   "cell_type": "code",
   "execution_count": 8,
   "metadata": {},
   "outputs": [
    {
     "data": {
      "text/plain": [
       "[<b>The demo python introduces several python courses.</b>,\n",
       " <a class=\"py1\" href=\"http://www.icourse163.org/course/BIT-268001\" id=\"link1\">Basic Python</a>,\n",
       " <a class=\"py2\" href=\"http://www.icourse163.org/course/BIT-1001870001\" id=\"link2\">Advanced Python</a>]"
      ]
     },
     "execution_count": 8,
     "metadata": {},
     "output_type": "execute_result"
    }
   ],
   "source": [
    "soup.find_all([\"a\",\"b\"])"
   ]
  },
  {
   "cell_type": "code",
   "execution_count": 12,
   "metadata": {},
   "outputs": [
    {
     "name": "stdout",
     "output_type": "stream",
     "text": [
      "html\n",
      "head\n",
      "title\n",
      "body\n",
      "p\n",
      "b\n",
      "p\n",
      "a\n",
      "a\n"
     ]
    }
   ],
   "source": [
    "#打印所有标签：\n",
    "for i in soup.find_all(True):\n",
    "    print(i.name)"
   ]
  },
  {
   "cell_type": "code",
   "execution_count": 13,
   "metadata": {},
   "outputs": [
    {
     "name": "stdout",
     "output_type": "stream",
     "text": [
      "body\n",
      "b\n"
     ]
    }
   ],
   "source": [
    "#打印所有以b开头的标签：\n",
    "import re\n",
    "for tag in soup.find_all(re.compile(\"b\")):\n",
    "    print(tag.name)"
   ]
  },
  {
   "cell_type": "code",
   "execution_count": 14,
   "metadata": {},
   "outputs": [
    {
     "data": {
      "text/plain": [
       "[<p class=\"course\">Python is a wonderful general-purpose programming language. You can learn Python from novice to professional by tracking the following courses:\n",
       " <a class=\"py1\" href=\"http://www.icourse163.org/course/BIT-268001\" id=\"link1\">Basic Python</a> and <a class=\"py2\" href=\"http://www.icourse163.org/course/BIT-1001870001\" id=\"link2\">Advanced Python</a>.</p>]"
      ]
     },
     "execution_count": 14,
     "metadata": {},
     "output_type": "execute_result"
    }
   ],
   "source": [
    "#打印所有带有“course”的p标签\n",
    "soup.find_all(\"p\",\"course\")"
   ]
  },
  {
   "cell_type": "code",
   "execution_count": 16,
   "metadata": {},
   "outputs": [
    {
     "data": {
      "text/plain": [
       "[<a class=\"py1\" href=\"http://www.icourse163.org/course/BIT-268001\" id=\"link1\">Basic Python</a>]"
      ]
     },
     "execution_count": 16,
     "metadata": {},
     "output_type": "execute_result"
    }
   ],
   "source": [
    "#打印所有id域为link的值\n",
    "soup.find_all(id = \"link1\")"
   ]
  },
  {
   "cell_type": "code",
   "execution_count": 19,
   "metadata": {},
   "outputs": [
    {
     "name": "stdout",
     "output_type": "stream",
     "text": [
      "<a class=\"py1\" href=\"http://www.icourse163.org/course/BIT-268001\" id=\"link1\">Basic Python</a>\n",
      "<a class=\"py2\" href=\"http://www.icourse163.org/course/BIT-1001870001\" id=\"link2\">Advanced Python</a>\n"
     ]
    }
   ],
   "source": [
    "#打印所有带link的值\n",
    "for a in soup.find_all(id = re.compile(\"link\")):\n",
    "    print(a)"
   ]
  },
  {
   "cell_type": "code",
   "execution_count": 20,
   "metadata": {},
   "outputs": [
    {
     "name": "stdout",
     "output_type": "stream",
     "text": [
      "This is a python demo page\n",
      "The demo python introduces several python courses.\n"
     ]
    }
   ],
   "source": [
    "#打印所有带python的字符串\n",
    "for b in soup.find_all(string = re.compile(\"python\")):\n",
    "    print(b)"
   ]
  },
  {
   "cell_type": "code",
   "execution_count": null,
   "metadata": {},
   "outputs": [],
   "source": []
  }
 ],
 "metadata": {
  "kernelspec": {
   "display_name": "Python 3",
   "language": "python",
   "name": "python3"
  },
  "language_info": {
   "codemirror_mode": {
    "name": "ipython",
    "version": 3
   },
   "file_extension": ".py",
   "mimetype": "text/x-python",
   "name": "python",
   "nbconvert_exporter": "python",
   "pygments_lexer": "ipython3",
   "version": "3.7.0"
  }
 },
 "nbformat": 4,
 "nbformat_minor": 2
}
