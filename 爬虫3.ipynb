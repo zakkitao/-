{
 "cells": [
  {
   "cell_type": "markdown",
   "metadata": {},
   "source": [
    "### requests库主要方法解析"
   ]
  },
  {
   "cell_type": "code",
   "execution_count": 15,
   "metadata": {},
   "outputs": [
    {
     "data": {
      "text/plain": [
       "'https://python123.io/ws?key1=value1&key2=value2'"
      ]
     },
     "execution_count": 15,
     "metadata": {},
     "output_type": "execute_result"
    }
   ],
   "source": [
    "# requests.request(method,\"url\",**kargs)\n",
    "# **kargs = params\n",
    "import requests\n",
    "kv = {\"key1\":\"value1\",\"key2\":\"value2\"}\n",
    "r = requests.request('GET',\"http://python123.io/ws\",params = kv)#将参数插入到url链接中\n",
    "r.url"
   ]
  },
  {
   "cell_type": "code",
   "execution_count": 13,
   "metadata": {},
   "outputs": [
    {
     "data": {
      "text/plain": [
       "'https://python123.io/ws'"
      ]
     },
     "execution_count": 13,
     "metadata": {},
     "output_type": "execute_result"
    }
   ],
   "source": [
    "# **kargs = data 向服务器提交字典、字节或文件资源使用，并不像params那样存放在链接中\n",
    "kv = {\"key1\":\"value1\",\"key2\":\"value2\"}\n",
    "a = requests.request('GET',\"http://python123.io/ws\",data = kv)\n",
    "\n",
    "# **kargs = json 向服务器提交字典、字节或文件资源使用，并不像params那样存放在链接中\n",
    "kv = {\"key1\":\"value1\",\"key2\":\"value2\"}\n",
    "b = requests.request('GET',\"http://python123.io/ws\",json = kv)\n",
    "\n",
    "# **kargs = file 向服务器提交字典、字节或文件资源使用，并不像params那样存放在链接中\n",
    "fs= {\"file\":open('ab-data.csv','rb')}\n",
    "c = requests.request('GET',\"http://python123.io/ws\",files = fs)"
   ]
  },
  {
   "cell_type": "code",
   "execution_count": 25,
   "metadata": {},
   "outputs": [
    {
     "data": {
      "text/plain": [
       "'https://python123.io/ws'"
      ]
     },
     "execution_count": 25,
     "metadata": {},
     "output_type": "execute_result"
    }
   ],
   "source": [
    "# **kargs = timeout 设定超时时间，秒为单位\n",
    "d = requests.request('GET',\"http://python123.io/ws\",timeout = 10)#如果请求时间内没有返回，则会出现异常值。\n",
    "d.url"
   ]
  },
  {
   "cell_type": "code",
   "execution_count": 24,
   "metadata": {},
   "outputs": [],
   "source": [
    "# **kargs = proxies 为我们爬取网页设置相关代理服务器,有效地防止对爬虫的逆追踪。\n",
    "pxs = {\"https\" : \"http://10.10.10.1:4321\"}\n",
    "r = requests.request(\"GET\",\"http://www.baidu.com\",proxies = pxs)"
   ]
  },
  {
   "cell_type": "code",
   "execution_count": null,
   "metadata": {},
   "outputs": [],
   "source": [
    "# **kargs = allow_redirects 重定向开关\n",
    "# **kargs = stream 对获取的对象立即下载开关 "
   ]
  }
 ],
 "metadata": {
  "kernelspec": {
   "display_name": "Python 3",
   "language": "python",
   "name": "python3"
  },
  "language_info": {
   "codemirror_mode": {
    "name": "ipython",
    "version": 3
   },
   "file_extension": ".py",
   "mimetype": "text/x-python",
   "name": "python",
   "nbconvert_exporter": "python",
   "pygments_lexer": "ipython3",
   "version": "3.7.0"
  }
 },
 "nbformat": 4,
 "nbformat_minor": 2
}
